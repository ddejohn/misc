{
 "cells": [
  {
   "cell_type": "code",
   "execution_count": 29,
   "id": "fb9e0d63",
   "metadata": {},
   "outputs": [],
   "source": [
    "import random\n",
    "from typing import Tuple, List\n",
    "\n",
    "import gif\n",
    "import plotly.graph_objects as go\n",
    "import numpy as np\n",
    "\n",
    "\n",
    "# COLORS = [(\"#155b92\", \"#15925e\"),\n",
    "#           (\"#9b76bc\", \"#618da7\"),\n",
    "#           (\"#ffba08\", \"#ff8c61\"),\n",
    "#           (\"#ffba08\", \"#43aa8b\"),\n",
    "#           (\"#ff928b\", \"#b392ac\"),\n",
    "#           (\"#00d59e\", \"#ab63fa\")]\n",
    "\n",
    "\n",
    "COLORS = [(\"#4c5b5c\", \"#ff715b\", \"#f9cb40\"),\n",
    "          (\"#512d38\", \"#b27092\", \"#f4bfdb\"),\n",
    "          (\"#b24c63\", \"#5438dc\", \"#357ded\"),\n",
    "          (\"#05a8aa\", \"#b8d5b8\", \"#d7b49e\"),\n",
    "          (\"#cce8cc\", \"#f6efee\", \"#e2b6cf\"),\n",
    "          (\"#cce8cc\", \"#f6efee\", \"#e2b6cf\")]\n",
    "\n",
    "# cce8cc-f6efee-e2b6cf\n",
    "# ffbf00-e83f6f-2274a5\n",
    "\n",
    "\n",
    "@gif.frame\n",
    "def animation_frame(fig: go.Figure) -> go.Figure:\n",
    "    return fig\n",
    "\n",
    "\n",
    "def make_plot(z: np.ndarray, colors: Tuple[str]) -> go.Figure:\n",
    "    height, width = z.shape\n",
    "    fig = go.Figure(go.Heatmap(z=z, colorscale=colors))\n",
    "    fig.update_traces(showscale=False)\n",
    "    fig.update_layout(width=10*width,\n",
    "                      height=10*height,\n",
    "                      xaxis_visible=False,\n",
    "                      yaxis_visible=False,\n",
    "                      margin=dict(t=0, b=0, l=0, r=0))\n",
    "    return fig\n",
    "\n",
    "\n",
    "def make_animation(arrays: List[np.ndarray], filename: str):\n",
    "    print(\"animating...\")\n",
    "    colors = random.sample(random.choice(COLORS), k=3)\n",
    "    frames = [animation_frame(make_plot(arr, colors)) for arr in arrays]\n",
    "    filename += f\"_{len(frames)}_frames.gif\"\n",
    "    gif.save(frames, filename, duration=25)\n",
    "    print(\"...done!\")\n",
    "\n",
    "\n",
    "class Maze:\n",
    "    def __init__(self, x: int, y: int, rooms=False) -> None:\n",
    "        self.shape = (x + 1, y + 1)\n",
    "        self.maze = np.zeros(self.shape, dtype=\"uint8\")\n",
    "        self.grid = [(i, j) for i in range(1, x+1, 2) for j in range(1, y+1, 2)]\n",
    "        self.path = [random.choice(self.grid)]\n",
    "        self.position = self.path[0]\n",
    "        self.grid.remove(self.position)\n",
    "        self.history = []\n",
    "\n",
    "        while self.grid:\n",
    "            for probe_link in self.moves:\n",
    "                probe, link = probe_link\n",
    "                if probe in self.grid:\n",
    "                    self.maze[tuple(zip(probe, link))] = 1\n",
    "                    self.grid.remove(probe)\n",
    "                    self.path.append(probe)\n",
    "                    self.position = probe\n",
    "                    self.history.append(self.maze.copy())\n",
    "                    break\n",
    "            else:\n",
    "                last_position = self.path.index(self.position)\n",
    "                self.position = self.path[max(last_position - 1, 1)]\n",
    "                maze_copy = self.maze.copy()\n",
    "                maze_copy[self.position] = 2\n",
    "                self.history.extend([maze_copy]*3)\n",
    "\n",
    "        self.history.extend([self.history[-1]]*50)\n",
    "\n",
    "    @property\n",
    "    def moves(self):\n",
    "        x, y = self.position\n",
    "        nsew = [[(x + 2, y), (x + 1, y)],\n",
    "                [(x, y + 2), (x, y + 1)],\n",
    "                [(x - 2, y), (x - 1, y)],\n",
    "                [(x, y - 2), (x, y - 1)]]\n",
    "        return random.sample(nsew, k=4)"
   ]
  },
  {
   "cell_type": "code",
   "execution_count": 30,
   "id": "f820d63e",
   "metadata": {},
   "outputs": [],
   "source": [
    "m = Maze(24, 24)"
   ]
  },
  {
   "cell_type": "code",
   "execution_count": 31,
   "id": "ff382d87",
   "metadata": {},
   "outputs": [
    {
     "name": "stdout",
     "output_type": "stream",
     "text": [
      "animating...\n",
      "...done!\n"
     ]
    }
   ],
   "source": [
    "make_animation(m.history, \"maze_animation\")"
   ]
  },
  {
   "cell_type": "code",
   "execution_count": null,
   "id": "b817f802",
   "metadata": {},
   "outputs": [],
   "source": []
  }
 ],
 "metadata": {
  "kernelspec": {
   "display_name": "Python 3",
   "language": "python",
   "name": "python3"
  },
  "language_info": {
   "codemirror_mode": {
    "name": "ipython",
    "version": 3
   },
   "file_extension": ".py",
   "mimetype": "text/x-python",
   "name": "python",
   "nbconvert_exporter": "python",
   "pygments_lexer": "ipython3",
   "version": "3.9.5"
  }
 },
 "nbformat": 4,
 "nbformat_minor": 5
}
