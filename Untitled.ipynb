{
 "cells": [
  {
   "cell_type": "code",
   "execution_count": 1,
   "metadata": {},
   "outputs": [],
   "source": [
    "%load_ext memory_profiler"
   ]
  },
  {
   "cell_type": "code",
   "execution_count": 2,
   "metadata": {},
   "outputs": [],
   "source": [
    "from test import bin_search, rec_bin_search, rec_sum\n",
    "\n",
    "\n",
    "n = 100000000\n",
    "L = [*range(n)]\n",
    "target = n // 2 + 1"
   ]
  },
  {
   "cell_type": "code",
   "execution_count": 5,
   "metadata": {},
   "outputs": [
    {
     "name": "stdout",
     "output_type": "stream",
     "text": [
      "peak memory: 5059.55 MiB, increment: 1144.41 MiB\n",
      "peak memory: 5060.66 MiB, increment: 1144.41 MiB\n",
      "peak memory: 5060.67 MiB, increment: 1144.42 MiB\n",
      "peak memory: 5060.67 MiB, increment: 1144.41 MiB\n",
      "peak memory: 5060.67 MiB, increment: 1144.41 MiB\n",
      "peak memory: 5060.67 MiB, increment: 1144.41 MiB\n",
      "peak memory: 5060.67 MiB, increment: 1144.41 MiB\n",
      "peak memory: 5060.67 MiB, increment: 1144.41 MiB\n",
      "2.37 s ± 34.8 ms per loop (mean ± std. dev. of 7 runs, 1 loop each)\n"
     ]
    }
   ],
   "source": [
    "%timeit %memit bin_search(L, target)"
   ]
  },
  {
   "cell_type": "code",
   "execution_count": 6,
   "metadata": {},
   "outputs": [
    {
     "name": "stdout",
     "output_type": "stream",
     "text": [
      "peak memory: 4869.94 MiB, increment: 953.68 MiB\n",
      "peak memory: 4868.76 MiB, increment: 953.63 MiB\n",
      "peak memory: 4869.88 MiB, increment: 953.68 MiB\n",
      "peak memory: 4869.88 MiB, increment: 953.68 MiB\n",
      "peak memory: 4869.88 MiB, increment: 953.68 MiB\n",
      "peak memory: 4869.88 MiB, increment: 953.68 MiB\n",
      "peak memory: 4868.77 MiB, increment: 953.68 MiB\n",
      "peak memory: 4868.77 MiB, increment: 953.68 MiB\n",
      "2 s ± 14.3 ms per loop (mean ± std. dev. of 7 runs, 1 loop each)\n"
     ]
    }
   ],
   "source": [
    "%timeit %memit rec_bin_search(L, target)"
   ]
  },
  {
   "cell_type": "code",
   "execution_count": null,
   "metadata": {},
   "outputs": [],
   "source": [
    "rec_sum(range(100000))"
   ]
  }
 ],
 "metadata": {
  "kernelspec": {
   "display_name": "Python 3",
   "language": "python",
   "name": "python3"
  },
  "language_info": {
   "codemirror_mode": {
    "name": "ipython",
    "version": 3
   },
   "file_extension": ".py",
   "mimetype": "text/x-python",
   "name": "python",
   "nbconvert_exporter": "python",
   "pygments_lexer": "ipython3",
   "version": "3.8.6"
  }
 },
 "nbformat": 4,
 "nbformat_minor": 4
}
